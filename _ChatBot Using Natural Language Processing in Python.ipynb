{
 "cells": [
  {
   "cell_type": "code",
   "execution_count": 1,
   "id": "ac8e4a1a",
   "metadata": {},
   "outputs": [
    {
     "name": "stdout",
     "output_type": "stream",
     "text": [
      "Requirement already satisfied: chatterbot in c:\\users\\tejashaarav s\\anaconda3\\lib\\site-packages (1.0.4)\n",
      "Requirement already satisfied: python-dateutil<2.8,>=2.7 in c:\\users\\tejashaarav s\\anaconda3\\lib\\site-packages (from chatterbot) (2.7.5)\n",
      "Requirement already satisfied: pint>=0.8.1 in c:\\users\\tejashaarav s\\anaconda3\\lib\\site-packages (from chatterbot) (0.18)\n",
      "Requirement already satisfied: sqlalchemy<1.3,>=1.2 in c:\\users\\tejashaarav s\\anaconda3\\lib\\site-packages (from chatterbot) (1.2.19)\n",
      "Requirement already satisfied: nltk<4.0,>=3.2 in c:\\users\\tejashaarav s\\anaconda3\\lib\\site-packages (from chatterbot) (3.6.1)\n",
      "Requirement already satisfied: pymongo<4.0,>=3.3 in c:\\users\\tejashaarav s\\anaconda3\\lib\\site-packages (from chatterbot) (3.12.3)\n",
      "Requirement already satisfied: chatterbot-corpus<1.3,>=1.2 in c:\\users\\tejashaarav s\\anaconda3\\lib\\site-packages (from chatterbot) (1.2.0)\n",
      "Requirement already satisfied: mathparse<0.2,>=0.1 in c:\\users\\tejashaarav s\\anaconda3\\lib\\site-packages (from chatterbot) (0.1.2)\n",
      "Requirement already satisfied: PyYAML<4.0,>=3.12 in c:\\users\\tejashaarav s\\anaconda3\\lib\\site-packages (from chatterbot-corpus<1.3,>=1.2->chatterbot) (3.13)\n",
      "Requirement already satisfied: tqdm in c:\\users\\tejashaarav s\\anaconda3\\lib\\site-packages (from nltk<4.0,>=3.2->chatterbot) (4.59.0)\n",
      "Requirement already satisfied: regex in c:\\users\\tejashaarav s\\anaconda3\\lib\\site-packages (from nltk<4.0,>=3.2->chatterbot) (2021.4.4)\n",
      "Requirement already satisfied: click in c:\\users\\tejashaarav s\\anaconda3\\lib\\site-packages (from nltk<4.0,>=3.2->chatterbot) (7.1.2)\n",
      "Requirement already satisfied: joblib in c:\\users\\tejashaarav s\\anaconda3\\lib\\site-packages (from nltk<4.0,>=3.2->chatterbot) (1.0.1)\n",
      "Requirement already satisfied: packaging in c:\\users\\tejashaarav s\\anaconda3\\lib\\site-packages (from pint>=0.8.1->chatterbot) (20.9)\n",
      "Requirement already satisfied: six>=1.5 in c:\\users\\tejashaarav s\\anaconda3\\lib\\site-packages (from python-dateutil<2.8,>=2.7->chatterbot) (1.15.0)\n",
      "Requirement already satisfied: pyparsing>=2.0.2 in c:\\users\\tejashaarav s\\anaconda3\\lib\\site-packages (from packaging->pint>=0.8.1->chatterbot) (2.4.7)\n"
     ]
    }
   ],
   "source": [
    "!pip install chatterbot"
   ]
  },
  {
   "cell_type": "code",
   "execution_count": 2,
   "id": "088b1f6b",
   "metadata": {},
   "outputs": [
    {
     "name": "stdout",
     "output_type": "stream",
     "text": [
      "Requirement already satisfied: chatterbot_corpus in c:\\users\\tejashaarav s\\anaconda3\\lib\\site-packages (1.2.0)\n",
      "Requirement already satisfied: PyYAML<4.0,>=3.12 in c:\\users\\tejashaarav s\\anaconda3\\lib\\site-packages (from chatterbot_corpus) (3.13)\n"
     ]
    }
   ],
   "source": [
    "!pip install chatterbot_corpus"
   ]
  },
  {
   "cell_type": "code",
   "execution_count": 3,
   "id": "e4db08f5",
   "metadata": {},
   "outputs": [
    {
     "name": "stdout",
     "output_type": "stream",
     "text": [
      "Collecting spacy\n",
      "  Downloading spacy-3.3.0-cp38-cp38-win_amd64.whl (12.0 MB)\n",
      "Collecting langcodes<4.0.0,>=3.2.0\n",
      "  Downloading langcodes-3.3.0-py3-none-any.whl (181 kB)\n",
      "Collecting cymem<2.1.0,>=2.0.2\n",
      "  Using cached cymem-2.0.6-cp38-cp38-win_amd64.whl (36 kB)\n",
      "Requirement already satisfied: requests<3.0.0,>=2.13.0 in c:\\users\\tejashaarav s\\anaconda3\\lib\\site-packages (from spacy) (2.27.1)\n",
      "Collecting spacy-loggers<2.0.0,>=1.0.0\n",
      "  Downloading spacy_loggers-1.0.2-py3-none-any.whl (7.2 kB)\n",
      "Collecting srsly<3.0.0,>=2.4.3\n",
      "  Downloading srsly-2.4.3-cp38-cp38-win_amd64.whl (448 kB)\n",
      "Requirement already satisfied: numpy>=1.15.0 in c:\\users\\tejashaarav s\\anaconda3\\lib\\site-packages (from spacy) (1.20.1)\n",
      "Collecting preshed<3.1.0,>=3.0.2\n",
      "  Downloading preshed-3.0.6-cp38-cp38-win_amd64.whl (113 kB)\n",
      "Requirement already satisfied: packaging>=20.0 in c:\\users\\tejashaarav s\\anaconda3\\lib\\site-packages (from spacy) (20.9)\n",
      "Requirement already satisfied: jinja2 in c:\\users\\tejashaarav s\\anaconda3\\lib\\site-packages (from spacy) (2.11.3)\n",
      "Collecting pydantic!=1.8,!=1.8.1,<1.9.0,>=1.7.4\n",
      "  Downloading pydantic-1.8.2-cp38-cp38-win_amd64.whl (2.0 MB)\n",
      "Collecting wasabi<1.1.0,>=0.9.1\n",
      "  Using cached wasabi-0.9.1-py3-none-any.whl (26 kB)\n",
      "Collecting spacy-legacy<3.1.0,>=3.0.9\n",
      "  Downloading spacy_legacy-3.0.9-py2.py3-none-any.whl (20 kB)\n",
      "Collecting catalogue<2.1.0,>=2.0.6\n",
      "  Downloading catalogue-2.0.7-py3-none-any.whl (17 kB)\n",
      "Requirement already satisfied: setuptools in c:\\users\\tejashaarav s\\anaconda3\\lib\\site-packages (from spacy) (52.0.0.post20210125)\n",
      "Collecting thinc<8.1.0,>=8.0.14\n",
      "  Downloading thinc-8.0.15-cp38-cp38-win_amd64.whl (1.0 MB)\n",
      "Collecting pathy>=0.3.5\n",
      "  Downloading pathy-0.6.1-py3-none-any.whl (42 kB)\n",
      "Requirement already satisfied: tqdm<5.0.0,>=4.38.0 in c:\\users\\tejashaarav s\\anaconda3\\lib\\site-packages (from spacy) (4.59.0)\n",
      "Collecting typer<0.5.0,>=0.3.0\n",
      "  Downloading typer-0.4.1-py3-none-any.whl (27 kB)\n",
      "Collecting blis<0.8.0,>=0.4.0\n",
      "  Downloading blis-0.7.7-cp38-cp38-win_amd64.whl (6.6 MB)\n",
      "Collecting murmurhash<1.1.0,>=0.28.0\n",
      "  Downloading murmurhash-1.0.7-cp38-cp38-win_amd64.whl (18 kB)\n",
      "Requirement already satisfied: pyparsing>=2.0.2 in c:\\users\\tejashaarav s\\anaconda3\\lib\\site-packages (from packaging>=20.0->spacy) (2.4.7)\n",
      "Collecting smart-open<6.0.0,>=5.0.0\n",
      "  Downloading smart_open-5.2.1-py3-none-any.whl (58 kB)\n",
      "Requirement already satisfied: typing-extensions>=3.7.4.3 in c:\\users\\tejashaarav s\\anaconda3\\lib\\site-packages (from pydantic!=1.8,!=1.8.1,<1.9.0,>=1.7.4->spacy) (3.7.4.3)\n",
      "Requirement already satisfied: certifi>=2017.4.17 in c:\\users\\tejashaarav s\\anaconda3\\lib\\site-packages (from requests<3.0.0,>=2.13.0->spacy) (2020.12.5)\n",
      "Requirement already satisfied: idna<4,>=2.5 in c:\\users\\tejashaarav s\\anaconda3\\lib\\site-packages (from requests<3.0.0,>=2.13.0->spacy) (2.10)\n",
      "Requirement already satisfied: charset-normalizer~=2.0.0 in c:\\users\\tejashaarav s\\anaconda3\\lib\\site-packages (from requests<3.0.0,>=2.13.0->spacy) (2.0.12)\n",
      "Requirement already satisfied: urllib3<1.27,>=1.21.1 in c:\\users\\tejashaarav s\\anaconda3\\lib\\site-packages (from requests<3.0.0,>=2.13.0->spacy) (1.26.4)\n",
      "Requirement already satisfied: click<9.0.0,>=7.1.1 in c:\\users\\tejashaarav s\\anaconda3\\lib\\site-packages (from typer<0.5.0,>=0.3.0->spacy) (7.1.2)\n",
      "Requirement already satisfied: MarkupSafe>=0.23 in c:\\users\\tejashaarav s\\anaconda3\\lib\\site-packages (from jinja2->spacy) (1.1.1)\n",
      "Installing collected packages: murmurhash, cymem, catalogue, wasabi, typer, srsly, smart-open, pydantic, preshed, blis, thinc, spacy-loggers, spacy-legacy, pathy, langcodes, spacy\n",
      "Successfully installed blis-0.7.7 catalogue-2.0.7 cymem-2.0.6 langcodes-3.3.0 murmurhash-1.0.7 pathy-0.6.1 preshed-3.0.6 pydantic-1.8.2 smart-open-5.2.1 spacy-3.3.0 spacy-legacy-3.0.9 spacy-loggers-1.0.2 srsly-2.4.3 thinc-8.0.15 typer-0.4.1 wasabi-0.9.1\n"
     ]
    }
   ],
   "source": [
    "!pip install -U spacy\n"
   ]
  },
  {
   "cell_type": "code",
   "execution_count": 4,
   "id": "694b0ee4",
   "metadata": {},
   "outputs": [
    {
     "name": "stdout",
     "output_type": "stream",
     "text": [
      "Collecting https://github.com/explosion/spacy-models/releases/download/en_core_web_sm-2.2.0/en_core_web_sm-2.2.0.tar.gz\n",
      "  Downloading https://github.com/explosion/spacy-models/releases/download/en_core_web_sm-2.2.0/en_core_web_sm-2.2.0.tar.gz (12.0 MB)\n",
      "Requirement already satisfied: spacy>=2.2.0 in c:\\users\\tejashaarav s\\anaconda3\\lib\\site-packages (from en-core-web-sm==2.2.0) (3.3.0)\n",
      "Requirement already satisfied: pathy>=0.3.5 in c:\\users\\tejashaarav s\\anaconda3\\lib\\site-packages (from spacy>=2.2.0->en-core-web-sm==2.2.0) (0.6.1)\n",
      "Requirement already satisfied: spacy-legacy<3.1.0,>=3.0.9 in c:\\users\\tejashaarav s\\anaconda3\\lib\\site-packages (from spacy>=2.2.0->en-core-web-sm==2.2.0) (3.0.9)\n",
      "Requirement already satisfied: setuptools in c:\\users\\tejashaarav s\\anaconda3\\lib\\site-packages (from spacy>=2.2.0->en-core-web-sm==2.2.0) (52.0.0.post20210125)\n",
      "Requirement already satisfied: numpy>=1.15.0 in c:\\users\\tejashaarav s\\anaconda3\\lib\\site-packages (from spacy>=2.2.0->en-core-web-sm==2.2.0) (1.20.1)\n",
      "Requirement already satisfied: spacy-loggers<2.0.0,>=1.0.0 in c:\\users\\tejashaarav s\\anaconda3\\lib\\site-packages (from spacy>=2.2.0->en-core-web-sm==2.2.0) (1.0.2)\n",
      "Requirement already satisfied: thinc<8.1.0,>=8.0.14 in c:\\users\\tejashaarav s\\anaconda3\\lib\\site-packages (from spacy>=2.2.0->en-core-web-sm==2.2.0) (8.0.15)\n",
      "Requirement already satisfied: preshed<3.1.0,>=3.0.2 in c:\\users\\tejashaarav s\\anaconda3\\lib\\site-packages (from spacy>=2.2.0->en-core-web-sm==2.2.0) (3.0.6)\n",
      "Requirement already satisfied: tqdm<5.0.0,>=4.38.0 in c:\\users\\tejashaarav s\\anaconda3\\lib\\site-packages (from spacy>=2.2.0->en-core-web-sm==2.2.0) (4.59.0)\n",
      "Requirement already satisfied: packaging>=20.0 in c:\\users\\tejashaarav s\\anaconda3\\lib\\site-packages (from spacy>=2.2.0->en-core-web-sm==2.2.0) (20.9)\n",
      "Requirement already satisfied: murmurhash<1.1.0,>=0.28.0 in c:\\users\\tejashaarav s\\anaconda3\\lib\\site-packages (from spacy>=2.2.0->en-core-web-sm==2.2.0) (1.0.7)\n",
      "Requirement already satisfied: typer<0.5.0,>=0.3.0 in c:\\users\\tejashaarav s\\anaconda3\\lib\\site-packages (from spacy>=2.2.0->en-core-web-sm==2.2.0) (0.4.1)\n",
      "Requirement already satisfied: wasabi<1.1.0,>=0.9.1 in c:\\users\\tejashaarav s\\anaconda3\\lib\\site-packages (from spacy>=2.2.0->en-core-web-sm==2.2.0) (0.9.1)\n",
      "Requirement already satisfied: srsly<3.0.0,>=2.4.3 in c:\\users\\tejashaarav s\\anaconda3\\lib\\site-packages (from spacy>=2.2.0->en-core-web-sm==2.2.0) (2.4.3)\n",
      "Requirement already satisfied: langcodes<4.0.0,>=3.2.0 in c:\\users\\tejashaarav s\\anaconda3\\lib\\site-packages (from spacy>=2.2.0->en-core-web-sm==2.2.0) (3.3.0)\n",
      "Requirement already satisfied: jinja2 in c:\\users\\tejashaarav s\\anaconda3\\lib\\site-packages (from spacy>=2.2.0->en-core-web-sm==2.2.0) (2.11.3)\n",
      "Requirement already satisfied: requests<3.0.0,>=2.13.0 in c:\\users\\tejashaarav s\\anaconda3\\lib\\site-packages (from spacy>=2.2.0->en-core-web-sm==2.2.0) (2.27.1)\n",
      "Requirement already satisfied: pydantic!=1.8,!=1.8.1,<1.9.0,>=1.7.4 in c:\\users\\tejashaarav s\\anaconda3\\lib\\site-packages (from spacy>=2.2.0->en-core-web-sm==2.2.0) (1.8.2)\n",
      "Requirement already satisfied: cymem<2.1.0,>=2.0.2 in c:\\users\\tejashaarav s\\anaconda3\\lib\\site-packages (from spacy>=2.2.0->en-core-web-sm==2.2.0) (2.0.6)\n",
      "Requirement already satisfied: catalogue<2.1.0,>=2.0.6 in c:\\users\\tejashaarav s\\anaconda3\\lib\\site-packages (from spacy>=2.2.0->en-core-web-sm==2.2.0) (2.0.7)\n",
      "Requirement already satisfied: blis<0.8.0,>=0.4.0 in c:\\users\\tejashaarav s\\anaconda3\\lib\\site-packages (from spacy>=2.2.0->en-core-web-sm==2.2.0) (0.7.7)\n",
      "Requirement already satisfied: pyparsing>=2.0.2 in c:\\users\\tejashaarav s\\anaconda3\\lib\\site-packages (from packaging>=20.0->spacy>=2.2.0->en-core-web-sm==2.2.0) (2.4.7)\n",
      "Requirement already satisfied: smart-open<6.0.0,>=5.0.0 in c:\\users\\tejashaarav s\\anaconda3\\lib\\site-packages (from pathy>=0.3.5->spacy>=2.2.0->en-core-web-sm==2.2.0) (5.2.1)\n",
      "Requirement already satisfied: typing-extensions>=3.7.4.3 in c:\\users\\tejashaarav s\\anaconda3\\lib\\site-packages (from pydantic!=1.8,!=1.8.1,<1.9.0,>=1.7.4->spacy>=2.2.0->en-core-web-sm==2.2.0) (3.7.4.3)\n",
      "Requirement already satisfied: charset-normalizer~=2.0.0 in c:\\users\\tejashaarav s\\anaconda3\\lib\\site-packages (from requests<3.0.0,>=2.13.0->spacy>=2.2.0->en-core-web-sm==2.2.0) (2.0.12)\n",
      "Requirement already satisfied: certifi>=2017.4.17 in c:\\users\\tejashaarav s\\anaconda3\\lib\\site-packages (from requests<3.0.0,>=2.13.0->spacy>=2.2.0->en-core-web-sm==2.2.0) (2020.12.5)\n",
      "Requirement already satisfied: idna<4,>=2.5 in c:\\users\\tejashaarav s\\anaconda3\\lib\\site-packages (from requests<3.0.0,>=2.13.0->spacy>=2.2.0->en-core-web-sm==2.2.0) (2.10)\n",
      "Requirement already satisfied: urllib3<1.27,>=1.21.1 in c:\\users\\tejashaarav s\\anaconda3\\lib\\site-packages (from requests<3.0.0,>=2.13.0->spacy>=2.2.0->en-core-web-sm==2.2.0) (1.26.4)\n",
      "Requirement already satisfied: click<9.0.0,>=7.1.1 in c:\\users\\tejashaarav s\\anaconda3\\lib\\site-packages (from typer<0.5.0,>=0.3.0->spacy>=2.2.0->en-core-web-sm==2.2.0) (7.1.2)\n",
      "Requirement already satisfied: MarkupSafe>=0.23 in c:\\users\\tejashaarav s\\anaconda3\\lib\\site-packages (from jinja2->spacy>=2.2.0->en-core-web-sm==2.2.0) (1.1.1)\n",
      "Building wheels for collected packages: en-core-web-sm\n",
      "  Building wheel for en-core-web-sm (setup.py): started\n",
      "  Building wheel for en-core-web-sm (setup.py): finished with status 'done'\n",
      "  Created wheel for en-core-web-sm: filename=en_core_web_sm-2.2.0-py3-none-any.whl size=12019121 sha256=305cc28feff9f15d6643e740c6c0973a5500dd347896cdc8b6c3faa5ae03cd7d\n",
      "  Stored in directory: c:\\users\\tejashaarav s\\appdata\\local\\pip\\cache\\wheels\\fc\\31\\e9\\092e6f05b2817c9cb45804a3d1bf2b9bf6575742c01819337c\n",
      "Successfully built en-core-web-sm\n",
      "Installing collected packages: en-core-web-sm\n",
      "Successfully installed en-core-web-sm-2.2.0\n"
     ]
    }
   ],
   "source": [
    "!pip install https://github.com/explosion/spacy-models/releases/download/en_core_web_sm-2.2.0/en_core_web_sm-2.2.0.tar.gz"
   ]
  },
  {
   "cell_type": "code",
   "execution_count": 2,
   "id": "98168a06",
   "metadata": {},
   "outputs": [],
   "source": [
    "from chatterbot import ChatBot\n",
    "from chatterbot.trainers import ListTrainer\n"
   ]
  },
  {
   "cell_type": "code",
   "execution_count": 3,
   "id": "fbd8d60c",
   "metadata": {},
   "outputs": [
    {
     "name": "stdout",
     "output_type": "stream",
     "text": [
      "List Trainer: [#######             ] 33%"
     ]
    },
    {
     "name": "stderr",
     "output_type": "stream",
     "text": [
      "[nltk_data] Downloading package averaged_perceptron_tagger to\n",
      "[nltk_data]     C:\\Users\\Tejashaarav S\\AppData\\Roaming\\nltk_data...\n",
      "[nltk_data]   Package averaged_perceptron_tagger is already up-to-\n",
      "[nltk_data]       date!\n",
      "[nltk_data] Downloading package punkt to C:\\Users\\Tejashaarav\n",
      "[nltk_data]     S\\AppData\\Roaming\\nltk_data...\n",
      "[nltk_data]   Package punkt is already up-to-date!\n",
      "[nltk_data] Downloading package stopwords to C:\\Users\\Tejashaarav\n",
      "[nltk_data]     S\\AppData\\Roaming\\nltk_data...\n",
      "[nltk_data]   Package stopwords is already up-to-date!\n"
     ]
    },
    {
     "name": "stdout",
     "output_type": "stream",
     "text": [
      "List Trainer: [####################] 100%\n",
      "Your flight has been booked.\n"
     ]
    }
   ],
   "source": [
    "chatbot = ChatBot('name')\n",
    "trainer = ListTrainer(chatbot)\n",
    "trainer.train([\n",
    "    \"Hi, can I help you?\",\n",
    "    \"Sure, I'd like to book a flight to Iceland.\",\n",
    "    \"Your flight has been booked.\"\n",
    "])\n",
    "response = chatbot.get_response('hello')\n",
    "print(response)"
   ]
  },
  {
   "cell_type": "code",
   "execution_count": 1,
   "id": "15c89afc",
   "metadata": {},
   "outputs": [],
   "source": [
    "import time\n",
    "time.clock = time.time"
   ]
  },
  {
   "cell_type": "code",
   "execution_count": 8,
   "id": "943b0d58",
   "metadata": {},
   "outputs": [
    {
     "name": "stdout",
     "output_type": "stream",
     "text": [
      "Hi\n"
     ]
    }
   ],
   "source": [
    "response = chatbot.get_response('hello')\n",
    "print(response)"
   ]
  },
  {
   "cell_type": "code",
   "execution_count": 9,
   "id": "9e4b2929",
   "metadata": {},
   "outputs": [
    {
     "name": "stdout",
     "output_type": "stream",
     "text": [
      "I am doing well.\n"
     ]
    }
   ],
   "source": [
    "response = chatbot.get_response('how are you')\n",
    "print(response)"
   ]
  },
  {
   "cell_type": "code",
   "execution_count": 12,
   "id": "0994f444",
   "metadata": {},
   "outputs": [
    {
     "name": "stdout",
     "output_type": "stream",
     "text": [
      "Your flight has been booked.\n"
     ]
    }
   ],
   "source": [
    "response = chatbot.get_response('book me a flight')\n",
    "print(response)"
   ]
  },
  {
   "cell_type": "code",
   "execution_count": null,
   "id": "94146c89",
   "metadata": {},
   "outputs": [],
   "source": []
  }
 ],
 "metadata": {
  "kernelspec": {
   "display_name": "Python 3",
   "language": "python",
   "name": "python3"
  },
  "language_info": {
   "codemirror_mode": {
    "name": "ipython",
    "version": 3
   },
   "file_extension": ".py",
   "mimetype": "text/x-python",
   "name": "python",
   "nbconvert_exporter": "python",
   "pygments_lexer": "ipython3",
   "version": "3.8.8"
  }
 },
 "nbformat": 4,
 "nbformat_minor": 5
}
